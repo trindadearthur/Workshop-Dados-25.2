{
  "nbformat": 4,
  "nbformat_minor": 0,
  "metadata": {
    "colab": {
      "provenance": []
    },
    "kernelspec": {
      "name": "python3",
      "display_name": "Python 3"
    },
    "language_info": {
      "name": "python"
    }
  },
  "cells": [
    {
      "cell_type": "code",
      "execution_count": 10,
      "metadata": {
        "id": "ZgiKmrnd-Xwf"
      },
      "outputs": [],
      "source": [
        "# Desafio Final ML - Banco Box Sintetico\n",
        "# Arthur Trindade"
      ]
    },
    {
      "cell_type": "code",
      "source": [
        "# 1. Importação e Extração\n",
        "\n",
        "import pandas as pd\n",
        "import numpy as np\n",
        "import matplotlib.pyplot as plt\n",
        "import seaborn as sns\n",
        "from sklearn.model_selection import train_test_split\n",
        "from sklearn.preprocessing import StandardScaler, OneHotEncoder, LabelEncoder\n",
        "from sklearn.compose import ColumnTransformer\n",
        "from sklearn.pipeline import Pipeline\n",
        "from sklearn.linear_model import LogisticRegression\n",
        "from sklearn.naive_bayes import GaussianNB\n",
        "from sklearn.tree import DecisionTreeClassifier\n",
        "from sklearn.ensemble import RandomForestClassifier\n",
        "from sklearn.metrics import accuracy_score\n",
        "\n",
        "# Extração: Carregar o CSV\n",
        "df = pd.read_csv(\"/content/banco_box_sintetico.csv\")"
      ],
      "metadata": {
        "id": "MD1dH53_BWIr"
      },
      "execution_count": 11,
      "outputs": []
    },
    {
      "cell_type": "code",
      "source": [
        "# 2. Transformação e Análise\n",
        "\n",
        "print(\"Iniciando Transformação e Análise\")\n",
        "\n",
        "# Tratamento de dados nulos\n",
        "median_renda = df['renda_mensal'].median()\n",
        "df['renda_mensal'].fillna(median_renda, inplace=True)\n",
        "\n",
        "# Criação da nova coluna: relação dívida/renda\n",
        "df['relacao_divida_renda'] = df['dividas_total'] / df['renda_mensal'].replace(0, 1e-6)\n",
        "print(\"Coluna 'relacao_divida_renda' criada com sucesso.\")"
      ],
      "metadata": {
        "colab": {
          "base_uri": "https://localhost:8080/"
        },
        "id": "McH45iKWBzSx",
        "outputId": "94cc5cbf-f53c-42ed-f291-78c623825d93"
      },
      "execution_count": 12,
      "outputs": [
        {
          "output_type": "stream",
          "name": "stdout",
          "text": [
            "Iniciando Transformação e Análise\n",
            "Coluna 'relacao_divida_renda' criada com sucesso.\n"
          ]
        },
        {
          "output_type": "stream",
          "name": "stderr",
          "text": [
            "/tmp/ipython-input-4026331993.py:7: FutureWarning: A value is trying to be set on a copy of a DataFrame or Series through chained assignment using an inplace method.\n",
            "The behavior will change in pandas 3.0. This inplace method will never work because the intermediate object on which we are setting values always behaves as a copy.\n",
            "\n",
            "For example, when doing 'df[col].method(value, inplace=True)', try using 'df.method({col: value}, inplace=True)' or df[col] = df[col].method(value) instead, to perform the operation inplace on the original object.\n",
            "\n",
            "\n",
            "  df['renda_mensal'].fillna(median_renda, inplace=True)\n"
          ]
        }
      ]
    },
    {
      "cell_type": "code",
      "source": [
        "# 3. CSV Tratado para análise\n",
        "\n",
        "df.to_csv(\"banco_tratado_para_analise.csv\", index=False)\n",
        "print(\"Arquivo 'banco_tratado_para_analise.csv' salvo com sucesso.\")"
      ],
      "metadata": {
        "colab": {
          "base_uri": "https://localhost:8080/"
        },
        "id": "M0OsjR_wB5yH",
        "outputId": "0854379a-e652-4594-edcb-41bf2b933d04"
      },
      "execution_count": 13,
      "outputs": [
        {
          "output_type": "stream",
          "name": "stdout",
          "text": [
            "Arquivo 'banco_tratado_para_analise.csv' salvo com sucesso.\n"
          ]
        }
      ]
    },
    {
      "cell_type": "code",
      "source": [
        "# 4. Análise com Numpy\n",
        "\n",
        "media_historico = np.mean(df['historico_credito'])\n",
        "print(f\"\\nA média do histórico de crédito dos clientes é de: {media_historico:.2f} meses.\")\n",
        "\n"
      ],
      "metadata": {
        "colab": {
          "base_uri": "https://localhost:8080/"
        },
        "id": "RnrJI0nvhda5",
        "outputId": "29ace161-7e15-4914-db71-a73bb1af3870"
      },
      "execution_count": 14,
      "outputs": [
        {
          "output_type": "stream",
          "name": "stdout",
          "text": [
            "\n",
            "A média do histórico de crédito dos clientes é de: 9.95 meses.\n"
          ]
        }
      ]
    },
    {
      "cell_type": "code",
      "source": [
        "# 5. Visualização com Matplotlib\n",
        "\n",
        "print(\"\\nGerando gráfico de distribuição de risco\")\n",
        "plt.figure(figsize=(8, 6))\n",
        "sns.countplot(x='risco_credito', data=df, order=['Baixo', 'Médio', 'Alto'], palette=\"viridis\")\n",
        "plt.title('Distribuição de Clientes por Nível de Risco')\n",
        "plt.xlabel('Risco de Crédito')\n",
        "plt.ylabel('Quantidade de Clientes')\n",
        "plt.show()\n"
      ],
      "metadata": {
        "colab": {
          "base_uri": "https://localhost:8080/",
          "height": 707
        },
        "id": "Xl7aJ8KOhgF6",
        "outputId": "5b26e7f1-18c5-4adb-deee-7977948f501d"
      },
      "execution_count": 15,
      "outputs": [
        {
          "output_type": "stream",
          "name": "stdout",
          "text": [
            "\n",
            "Gerando gráfico de distribuição de risco\n"
          ]
        },
        {
          "output_type": "stream",
          "name": "stderr",
          "text": [
            "/tmp/ipython-input-1791451661.py:5: FutureWarning: \n",
            "\n",
            "Passing `palette` without assigning `hue` is deprecated and will be removed in v0.14.0. Assign the `x` variable to `hue` and set `legend=False` for the same effect.\n",
            "\n",
            "  sns.countplot(x='risco_credito', data=df, order=['Baixo', 'Médio', 'Alto'], palette=\"viridis\")\n"
          ]
        },
        {
          "output_type": "display_data",
          "data": {
            "text/plain": [
              "<Figure size 800x600 with 1 Axes>"
            ],
            "image/png": "[encoded data removed]"
          },
          "metadata": {}
        }
      ]
    },
    {
      "cell_type": "code",
      "source": [
        "# 6. Modelos de classificação e sepação em x e y\n",
        "print(\"\\Iniciando o Processo de M.L.\")\n",
        "\n",
        "# Separar dados em x e y\n",
        "X = df.drop('risco_credito', axis=1)\n",
        "y = df['risco_credito']\n",
        "\n",
        "# Codificar y\n",
        "label_encoder_y = LabelEncoder()\n",
        "y_encoded = label_encoder_y.fit_transform(y)\n",
        "\n",
        "numerical_features = X.select_dtypes(include=np.number).columns.tolist()\n",
        "categorical_features = X.select_dtypes(exclude=np.number).columns.tolist()\n",
        "\n",
        "# Pipeline\n",
        "preprocessor = ColumnTransformer(\n",
        "    transformers=[\n",
        "        ('num', StandardScaler(), numerical_features),\n",
        "        ('cat', OneHotEncoder(handle_unknown='ignore'), categorical_features)\n",
        "    ])"
      ],
      "metadata": {
        "colab": {
          "base_uri": "https://localhost:8080/"
        },
        "id": "DOcXLWb9hi0A",
        "outputId": "dddb1c18-b7e8-4601-b5c5-0d3b5a0166b4"
      },
      "execution_count": 16,
      "outputs": [
        {
          "output_type": "stream",
          "name": "stdout",
          "text": [
            "\\Iniciando o Processo de M.L.\n"
          ]
        },
        {
          "output_type": "stream",
          "name": "stderr",
          "text": [
            "<>:2: SyntaxWarning: invalid escape sequence '\\I'\n",
            "<>:2: SyntaxWarning: invalid escape sequence '\\I'\n",
            "/tmp/ipython-input-4114846046.py:2: SyntaxWarning: invalid escape sequence '\\I'\n",
            "  print(\"\\Iniciando o Processo de M.L.\")\n"
          ]
        }
      ]
    },
    {
      "cell_type": "code",
      "source": [
        "# 7. Dividir em treino e teste\n",
        "X_train, X_test, y_train, y_test = train_test_split(X, y_encoded, test_size=0.2, random_state=42, stratify=y_encoded)\n",
        "\n",
        "# Pré-processar os dados (fit no treino, transform em ambos)\n",
        "X_train_processed = preprocessor.fit_transform(X_train)\n",
        "X_test_processed = preprocessor.transform(X_test)"
      ],
      "metadata": {
        "id": "3TfdMTFyhmQW"
      },
      "execution_count": 17,
      "outputs": []
    },
    {
      "cell_type": "code",
      "source": [
        "# 8. Treinar e avaliar modelos\n",
        "models = {\n",
        "    \"Regressão Logística\": LogisticRegression(max_iter=1000, random_state=42),\n",
        "    \"Árvore de Decisão\": DecisionTreeClassifier(random_state=42),\n",
        "    \"Random Forest\": RandomForestClassifier(random_state=42)\n",
        "}\n",
        "\n",
        "for name, model in models.items():\n",
        "    model.fit(X_train_processed, y_train)\n",
        "    predictions = model.predict(X_test_processed)\n",
        "    accuracy = accuracy_score(y_test, predictions)\n",
        "    print(f\"Acurácia do modelo '{name}': {accuracy*100:.2f}%\")\n",
        "\n",
        "print(\"\\nProcesso de Machine Learning Concluído\")"
      ],
      "metadata": {
        "colab": {
          "base_uri": "https://localhost:8080/"
        },
        "id": "JiM7_amjhm8z",
        "outputId": "48ef97fe-20fe-4c55-8788-3bce932bd942"
      },
      "execution_count": 18,
      "outputs": [
        {
          "output_type": "stream",
          "name": "stdout",
          "text": [
            "Acurácia do modelo 'Regressão Logística': 87.50%\n",
            "Acurácia do modelo 'Árvore de Decisão': 98.50%\n",
            "Acurácia do modelo 'Random Forest': 96.50%\n",
            "\n",
            "Processo de Machine Learning Concluído\n"
          ]
        }
      ]
    },
    {
      "cell_type": "code",
      "source": [
        "# 9. Baixar o melhor modelo\n",
        "\n",
        "import joblib\n",
        "\n",
        "best_model = \"Árvore de Decisão\"\n",
        "\n",
        "\n",
        "joblib.dump(best_model, \"redfit_model.pkl\")\n",
        "\n"
      ],
      "metadata": {
        "colab": {
          "base_uri": "https://localhost:8080/"
        },
        "id": "AL3XOo7OhqSS",
        "outputId": "06cbb75d-202f-47e2-b42b-27a5d1e13a80"
      },
      "execution_count": 20,
      "outputs": [
        {
          "output_type": "execute_result",
          "data": {
            "text/plain": [
              "['redfit_model.pkl']"
            ]
          },
          "metadata": {},
          "execution_count": 20
        }
      ]
    }
  ]
}